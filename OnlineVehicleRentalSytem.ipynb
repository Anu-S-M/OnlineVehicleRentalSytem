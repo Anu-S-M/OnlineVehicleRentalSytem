{
  "nbformat": 4,
  "nbformat_minor": 0,
  "metadata": {
    "colab": {
      "provenance": []
    },
    "kernelspec": {
      "name": "python3",
      "display_name": "Python 3"
    },
    "language_info": {
      "name": "python"
    }
  },
  "cells": [
    {
      "cell_type": "code",
      "execution_count": null,
      "metadata": {
        "colab": {
          "base_uri": "https://localhost:8080/"
        },
        "id": "KM3h14jaaJPN",
        "outputId": "435a60f6-caed-41b2-ebb9-4b60ae65234f"
      },
      "outputs": [
        {
          "output_type": "stream",
          "name": "stdout",
          "text": [
            "Type : Car\tId : C4SI\n",
            "Model : Suzuki\tRent_Price : 2000 \n",
            "\n",
            "Type : Car\tId : C0SI\n",
            "Model : Suzuki\tRent_Price : 2000 \n",
            "\n",
            "Type : Car\tId : C1KA\n",
            "Model : kia\tRent_Price : 4000 \n",
            "\n",
            "Type : Car\tId : C1SI\n",
            "Model : Suzuki\tRent_Price : 2000 \n",
            "\n",
            "Type : Car\tId : C2KA\n",
            "Model : kia\tRent_Price : 4000 \n",
            "\n",
            "Type : Car\tId : C2SI\n",
            "Model : Suzuki\tRent_Price : 2000 \n",
            "\n",
            "Type : Car\tId : C3KA\n",
            "Model : kia\tRent_Price : 4000 \n",
            "\n",
            "Type : Car\tId : C4KA\n",
            "Model : kia\tRent_Price : 4000 \n",
            "\n",
            "Type : Car\tId : C3SI\n",
            "Model : Suzuki\tRent_Price : 2000 \n",
            "\n",
            "Type : Car\tId : C0TA\n",
            "Model : Toyota\tRent_Price : 1500 \n",
            "\n",
            "Type : Car\tId : C0HI\n",
            "Model : Hyundai\tRent_Price : 2500 \n",
            "\n",
            "Type : Car\tId : C1HI\n",
            "Model : Hyundai\tRent_Price : 2500 \n",
            "\n",
            "Type : Car\tId : C2HI\n",
            "Model : Hyundai\tRent_Price : 2500 \n",
            "\n",
            "Type : Car\tId : C1TA\n",
            "Model : Toyota\tRent_Price : 1500 \n",
            "\n",
            "Type : Car\tId : C3HI\n",
            "Model : Hyundai\tRent_Price : 2500 \n",
            "\n",
            "Type : Car\tId : C4HI\n",
            "Model : Hyundai\tRent_Price : 2500 \n",
            "\n",
            "Type : Car\tId : C0FD\n",
            "Model : Ford\tRent_Price : 3000 \n",
            "\n",
            "Type : Car\tId : C1FD\n",
            "Model : Ford\tRent_Price : 3000 \n",
            "\n",
            "Type : Car\tId : C2TA\n",
            "Model : Toyota\tRent_Price : 1500 \n",
            "\n",
            "Type : Car\tId : C2FD\n",
            "Model : Ford\tRent_Price : 3000 \n",
            "\n",
            "Type : Car\tId : C4TA\n",
            "Model : Toyota\tRent_Price : 1500 \n",
            "\n",
            "Type : Car\tId : C3FD\n",
            "Model : Ford\tRent_Price : 3000 \n",
            "\n",
            "Type : Car\tId : C3TA\n",
            "Model : Toyota\tRent_Price : 1500 \n",
            "\n",
            "Type : Car\tId : C4FD\n",
            "Model : Ford\tRent_Price : 3000 \n",
            "\n",
            "Type : Car\tId : C0KA\n",
            "Model : kia\tRent_Price : 4000 \n",
            "\n",
            "Type : Bike\tId : B3HA\n",
            "Model : Honda\tRent_Price : 300 \n",
            "\n",
            "Type : Bike\tId : B1RT\n",
            "Model : Royal Enfield Bullet\tRent_Price : 1000 \n",
            "\n",
            "Type : Bike\tId : B2TS\n",
            "Model : TVS\tRent_Price : 500 \n",
            "\n",
            "Type : Bike\tId : B4HA\n",
            "Model : Honda\tRent_Price : 300 \n",
            "\n",
            "Type : Bike\tId : B2RT\n",
            "Model : Royal Enfield Bullet\tRent_Price : 1000 \n",
            "\n",
            "Type : Bike\tId : B0HA\n",
            "Model : Honda\tRent_Price : 300 \n",
            "\n",
            "Type : Bike\tId : B1HA\n",
            "Model : Honda\tRent_Price : 300 \n",
            "\n",
            "Type : Bike\tId : B2HA\n",
            "Model : Honda\tRent_Price : 300 \n",
            "\n",
            "Type : Bike\tId : B3TS\n",
            "Model : TVS\tRent_Price : 500 \n",
            "\n",
            "Type : Bike\tId : B4TS\n",
            "Model : TVS\tRent_Price : 500 \n",
            "\n",
            "Type : Bike\tId : B3RT\n",
            "Model : Royal Enfield Bullet\tRent_Price : 1000 \n",
            "\n",
            "Type : Bike\tId : B0RT\n",
            "Model : Royal Enfield Bullet\tRent_Price : 1000 \n",
            "\n",
            "Type : Bike\tId : B0TS\n",
            "Model : TVS\tRent_Price : 500 \n",
            "\n",
            "Type : Bike\tId : B4RT\n",
            "Model : Royal Enfield Bullet\tRent_Price : 1000 \n",
            "\n",
            "Type : Bike\tId : B1TS\n",
            "Model : TVS\tRent_Price : 500 \n",
            "\n"
          ]
        }
      ],
      "source": [
        "# LIBRARIES USED\n",
        "import random\n",
        "import time\n",
        "from datetime import datetime\n",
        "import pandas as pd\n",
        "from abc import ABC,abstractmethod\n",
        "from collections import deque\n",
        "\n",
        "# FUNCTION TO DISPLAY PROCESS GOING ON\n",
        "def process(msg):\n",
        "     print(\"\\n\")\n",
        "     t = random.randint(2,6)\n",
        "     for i in range(t+1):\n",
        "        info = '----->> {0:^20} <<-----'.format(msg)\n",
        "        print(info)\n",
        "        time.sleep(1)\n",
        "     print(\"\\n\")\n",
        "\n",
        "class Vehicle(ABC):\n",
        "    \"\"\"\n",
        "    An abstract class to force its subclass to implement abstract attribute and abstract method\n",
        "    \"\"\"\n",
        "\n",
        "    # ABSTRACT ATTRIBUTE\n",
        "    @property\n",
        "    @abstractmethod\n",
        "    def vehicle_type(self) -> str:\n",
        "          raise NotImplementedError\n",
        "\n",
        "    # ABSTRACT METHOD\n",
        "    @abstractmethod\n",
        "    def __str__(self) -> str:\n",
        "          raise NotImplementedError\n",
        "\n",
        "# Models being used in the inventory\n",
        "Car_Models = {\"Toyota\":1500,\"Suzuki\":2000,\"Hyundai\":2500,\"Ford\":3000,\"kia\":4000}\n",
        "Bike_Models = {\"Honda\":300,\"TVS\":500,\"Royal Enfield Bullet\":1000}\n",
        "\n",
        "class Car(Vehicle):\n",
        "      \"\"\"\n",
        "      Car class inheriting abstract class Vehicle\n",
        "      \"\"\"\n",
        "      vehicle_type = \"Car\"\n",
        "\n",
        "      def __init__(self,number,model):\n",
        "          \"\"\"\n",
        "          Constructor to initializes the bike object with field below\n",
        "          \"\"\"\n",
        "          self.vehicle_number = number\n",
        "          self.model = model\n",
        "          self.rent_price = Car_Models[model]\n",
        "\n",
        "      def __str__(self):\n",
        "            \"\"\"\n",
        "            Format to print car\n",
        "            \"\"\"\n",
        "            return f'Type : {Car.vehicle_type}\\tId : {self.vehicle_number}\\nModel : {self.model}\\tRent_Price : {self.rent_price}'\n",
        "\n",
        "\n",
        "class Bike(Vehicle):\n",
        "      \"\"\"\n",
        "      Bike class inheriting abstract class Vehicle\n",
        "      \"\"\"\n",
        "      vehicle_type = \"Bike\"\n",
        "\n",
        "      def __init__(self,number,model):\n",
        "          \"\"\"\n",
        "          Constructor to initializes the bike object with field below\n",
        "          \"\"\"\n",
        "          self.vehicle_number = number\n",
        "          self.model = model\n",
        "          self.rent_price = Bike_Models[model]\n",
        "\n",
        "      def __str__(self):\n",
        "            \"\"\"\n",
        "            Format to print bike\n",
        "            \"\"\"\n",
        "            return f'Type : {Bike.vehicle_type}\\tId : {self.vehicle_number}\\nModel : {self.model}\\tRent_Price : {self.rent_price}'\n",
        "\n",
        "# FUNCTION TO DISPLAY BILL\n",
        "def display_bill(customer):\n",
        "     bill_amount = 0\n",
        "     days_used = (datetime.now()-customer.rental_time).days\n",
        "     print(\"CUSTOMER INVOICE\")\n",
        "     pattern = \"***************************************\"\n",
        "     print(pattern)\n",
        "     columns_info = '| {0:^12} | {1:^20} | {2:^12} | {3:^12} |'.format(\"VEHICLE\",\"MODEL\",\"PRICE/DAY\",\"TOTAL PRICE\")\n",
        "     print(columns_info)\n",
        "     print(pattern)\n",
        "     for vehicle in customer.vehicles:\n",
        "         vehicle_info = '| {0:^12} | {1:^20} | {2:^12} | {3:^12} |'.format(vehicle.vehicle_type,vehicle.model,vehicle.rent_price,vehicle.rent_price*days_used)\n",
        "         print(vehicle_info)\n",
        "         bill_amount += (vehicle.rent_price)*days_used\n",
        "     print(pattern)\n",
        "     print()\n",
        "     return bill_amount\n",
        "class Inventory:\n",
        "      \"\"\"\n",
        "      Inventory class to contain list of bikes and cars\n",
        "      \"\"\"\n",
        "      def __init__(self):\n",
        "        \"\"\"\n",
        "        Constructor to initialize the inventory object with emmpty sets of vehicles\n",
        "        \"\"\"\n",
        "        # set is used here so, adding and removing complexity is O(1)\n",
        "        self.bikes = set()\n",
        "        self.cars  = set()\n",
        "\n",
        "      def add_item(self,item):\n",
        "          \"\"\"\n",
        "          Add vehicle item in inventory\n",
        "          \"\"\"\n",
        "          if item.vehicle_type == \"Bike\":\n",
        "             self.bikes.add(item)\n",
        "          else:\n",
        "             self.cars.add(item)\n",
        "\n",
        "      def del_item(self,item):\n",
        "          \"\"\"\n",
        "          Remove vehicle item from inventory\n",
        "          \"\"\"\n",
        "          if item.vehicle_type == \"Bike\":\n",
        "             self.bikes.remove(item)\n",
        "          else:\n",
        "             self.cars.remove(item)\n",
        "\n",
        "      def display_stocks(self):\n",
        "          \"\"\"\n",
        "          Display the stocks in the inventory\n",
        "          \"\"\"\n",
        "          display(f\"We currently have {len(self.bikes)} bikes and {len(self.cars)} cars\")\n",
        "\n",
        "      def rent(self,customer,num_of_bikes=0,num_of_cars=0):\n",
        "          \"\"\"\n",
        "          Rent the vehicles from inventory as requested\n",
        "          \"\"\"\n",
        "          total_bikes = len(self.bikes)\n",
        "          total_cars  = len(self.cars)\n",
        "          process_status = False\n",
        "          if   total_bikes <= 0 and total_cars <= 0:\n",
        "               display(\"Sorry !, Our Inventory is empty\")\n",
        "\n",
        "          elif num_of_bikes > total_bikes:\n",
        "               display(\"Sorry! We have currently only {} bikes available to rent.\".format(total_bikes))\n",
        "\n",
        "          elif num_of_cars > total_cars:\n",
        "               display(\"Sorry! We have currently only {} cars available to rent.\".format(total_cars))\n",
        "\n",
        "          else :\n",
        "               # Replace \"\"\" datetime(2021,3,10) with datetime.now() \"\"\"  in production mode\n",
        "               customer.rental_time = datetime(2021,3,10)\n",
        "\n",
        "               # Iterating over copy bcs the set is changed in the iteration\n",
        "               for bike in self.bikes.copy():\n",
        "                     if num_of_bikes <= 0 :\n",
        "                         break\n",
        "                     num_of_bikes -= 1\n",
        "                     self.del_item(bike)\n",
        "                     customer.vehicles.append(bike)\n",
        "\n",
        "               for car in self.cars.copy():\n",
        "                     if num_of_cars <= 0 :\n",
        "                         break\n",
        "                     num_of_cars -= 1\n",
        "                     self.del_item(car)\n",
        "                     customer.vehicles.append(car)\n",
        "               display(\"Request completed successully !\")\n",
        "               display(\"Enjoy the ride , Sir !\")\n",
        "               process_status = True\n",
        "\n",
        "          return process_status\n",
        "\n",
        "      def generate_bill(self,customer):\n",
        "         \"\"\"\n",
        "         Display the bill and return the bill\n",
        "         \"\"\"\n",
        "         bill_amt = display_bill(customer)\n",
        "         return bill_amt\n",
        "# Inventory object\n",
        "shop = Inventory()\n",
        "\n",
        "# Adding items in the inventory\n",
        "\"\"\"\n",
        "In case we can read from file or fetch items from database to make it more real , for\n",
        "simplicity we are adding manually\n",
        "\"\"\"\n",
        "Cars=[]\n",
        "Bikes=[]\n",
        "for model in Car_Models:\n",
        "    for i in range(5):\n",
        "        Cars.append(Car(\"C\"+str(i)+model[0].upper()+model[-1].upper(),model))\n",
        "\n",
        "for model in Bike_Models:\n",
        "    for i in range(5):\n",
        "        Bikes.append(Bike(\"B\"+str(i)+model[0].upper()+model[-1].upper(),model))\n",
        "\n",
        "random.shuffle(Cars)\n",
        "random.shuffle(Bikes)\n",
        "\n",
        "for car in Cars:\n",
        "    shop.add_item(car)\n",
        "for bike in Bikes:\n",
        "    shop.add_item(bike)\n",
        "\n",
        "# Testing purpose to see items in the inventory\n",
        "for car in shop.cars:\n",
        "    print(car,\"\\n\")\n",
        "\n",
        "for bike in shop.bikes:\n",
        "    print(bike,\"\\n\")"
      ]
    },
    {
      "cell_type": "code",
      "source": [
        "import requests\n",
        "\n",
        "url = \"https://irctc1.p.rapidapi.com/api/v1/checkSeatAvailability\"\n",
        "\n",
        "querystring = {\"classType\":\"2A\",\"fromStationCode\":\"ST\",\"quota\":\"GN\",\"toStationCode\":\"BVI\",\"trainNo\":\"19038\",\"date\":\"2022-05-25\"}\n",
        "\n",
        "headers = {\n",
        "\t\"X-RapidAPI-Key\": \"b643e32640msh9a10d23c36bde0bp1b736ejsna430f41dcb54\",\n",
        "\t\"X-RapidAPI-Host\": \"irctc1.p.rapidapi.com\"\n",
        "}\n",
        "\n",
        "response = requests.request(\"GET\", url, headers=headers, params=querystring)\n",
        "\n",
        "print(response.text)"
      ],
      "metadata": {
        "id": "KC1nf9pkwtLu",
        "outputId": "66b72b37-9cf5-4468-8e48-92f8c01a4984",
        "colab": {
          "base_uri": "https://localhost:8080/"
        }
      },
      "execution_count": null,
      "outputs": [
        {
          "output_type": "stream",
          "name": "stdout",
          "text": [
            "{\"message\":\"You are not subscribed to this API.\"}\n"
          ]
        }
      ]
    },
    {
      "cell_type": "code",
      "source": [
        "class Customer:\n",
        "    def __init__(self,name,aadhar_number):\n",
        "        \"\"\"\n",
        "        Our constructor method which initializes the customer object with field below\n",
        "        \"\"\"\n",
        "        self.name = name\n",
        "        self.aadhar_number = aadhar_number\n",
        "        self.vehicles = deque()\n",
        "        self.rental_time = 0\n",
        "        self.bill = 0\n",
        "\n",
        "    def request_vehicle(self):\n",
        "        \"\"\"\n",
        "        Takes a request from the customer for the vehicles to be rented.\n",
        "        \"\"\"\n",
        "        while True:\n",
        "            num_of_bikes = input(\"Enter number of bikes to be rented\")\n",
        "            num_of_cars  = input(\"Enter number of cars to be rented\")\n",
        "            try:\n",
        "                num_of_bikes,num_of_cars  = int(num_of_bikes),int(num_of_cars)\n",
        "\n",
        "            except ValueError:\n",
        "                display(\"Please enter a integer value\")\n",
        "                continue\n",
        "\n",
        "            if num_of_bikes < 1 or num_of_cars < 1:\n",
        "               display(\"Invalid input , number of vehicles should be greater than zero\")\n",
        "            else:\n",
        "                break\n",
        "\n",
        "        display( f'Customer requested for {num_of_bikes} bikes and {num_of_cars}cars')\n",
        "        process(\"PROCESS GOING ON\")\n",
        "\n",
        "    # Funtion to rent the vehicles requested\n",
        "        if shop.rent(self,num_of_bikes,num_of_cars) == False:\n",
        "           self.request_vehicle()\n",
        "\n",
        "\n",
        "\n",
        "    def return_vehicles(self):\n",
        "        \"\"\"\n",
        "        Allows customers to return their vehicles to the rental shop after generating the bill.\n",
        "        \"\"\"\n",
        "        display(\"Customer wants to return vehicles\")\n",
        "        process(\"PROCESS GOING ON\")\n",
        "        self.bill = shop.generate_bill(self)\n",
        "        display(f\" Total Amount =  Rs. {self.bill}\")\n",
        "        for vehicle in self.vehicles.copy():\n",
        "            if vehicle.vehicle_type == \"Bike\":\n",
        "               shop.bikes.add(vehicle)\n",
        "            else:\n",
        "               shop.cars.add(vehicle)\n",
        "\n",
        "            self.vehicles.remove(vehicle)\n",
        "        display(\"Returned vehicles successfully !\")\n",
        "\n",
        "\n",
        "    def pay_bill(self):\n",
        "        \"\"\"\n",
        "        Pays the bill\n",
        "        \"\"\"\n",
        "        display(f\"Payment of Amt Rs. {self.bill} initiated\")\n",
        "        process(\"Payment on process,wait for seconds\")\n",
        "        display(f\"{self.name} with total bill of Rs.{self.bill} has paid successfully\")\n",
        "        self.bill  = 0\n",
        "        display(\"Thank You Sir, for having service from us!\")\n",
        "\n",
        "    def __str__(self):\n",
        "        \"\"\"\n",
        "        Format to print the customer\n",
        "        \"\"\"\n",
        "        return f'Name : {self.name}\\tAadhar Number: {self.aadhar_number}'\n",
        "\n",
        "# Customer Object\n",
        "c = Customer(name = \"Anu\",aadhar_number = \"222244445555\")\n",
        "\n",
        "# Display the stocks in the shop\n",
        "shop.display_stocks()\n",
        "\n",
        "# Customer request for vehicle\n",
        "c.request_vehicle()"
      ],
      "metadata": {
        "colab": {
          "base_uri": "https://localhost:8080/",
          "height": 299
        },
        "id": "IzD6Xib5cLsi",
        "outputId": "8e55a127-88d2-4390-d473-6c63ac5fbac5"
      },
      "execution_count": null,
      "outputs": [
        {
          "output_type": "display_data",
          "data": {
            "text/plain": [
              "'We currently have 15 bikes and 25 cars'"
            ],
            "application/vnd.google.colaboratory.intrinsic+json": {
              "type": "string"
            }
          },
          "metadata": {}
        },
        {
          "name": "stdout",
          "output_type": "stream",
          "text": [
            "Enter number of bikes to be rented1\n",
            "Enter number of cars to be rented1\n"
          ]
        },
        {
          "output_type": "display_data",
          "data": {
            "text/plain": [
              "'Customer requested for 1 bikes and 1cars'"
            ],
            "application/vnd.google.colaboratory.intrinsic+json": {
              "type": "string"
            }
          },
          "metadata": {}
        },
        {
          "output_type": "stream",
          "name": "stdout",
          "text": [
            "\n",
            "\n",
            "----->>   PROCESS GOING ON   <<-----\n",
            "----->>   PROCESS GOING ON   <<-----\n",
            "----->>   PROCESS GOING ON   <<-----\n",
            "----->>   PROCESS GOING ON   <<-----\n",
            "----->>   PROCESS GOING ON   <<-----\n",
            "----->>   PROCESS GOING ON   <<-----\n",
            "\n",
            "\n"
          ]
        },
        {
          "output_type": "display_data",
          "data": {
            "text/plain": [
              "'Request completed successully !'"
            ],
            "application/vnd.google.colaboratory.intrinsic+json": {
              "type": "string"
            }
          },
          "metadata": {}
        },
        {
          "output_type": "display_data",
          "data": {
            "text/plain": [
              "'Enjoy the ride , Sir !'"
            ],
            "application/vnd.google.colaboratory.intrinsic+json": {
              "type": "string"
            }
          },
          "metadata": {}
        }
      ]
    },
    {
      "cell_type": "code",
      "source": [
        "# Customer returns the veihcle\n",
        "c.return_vehicles()\n"
      ],
      "metadata": {
        "colab": {
          "base_uri": "https://localhost:8080/",
          "height": 385
        },
        "id": "2odODo8wjJQo",
        "outputId": "5c95b805-f15e-4629-b593-d0c4dbde91f4"
      },
      "execution_count": null,
      "outputs": [
        {
          "output_type": "display_data",
          "data": {
            "text/plain": [
              "'Customer wants to return vehicles'"
            ],
            "application/vnd.google.colaboratory.intrinsic+json": {
              "type": "string"
            }
          },
          "metadata": {}
        },
        {
          "output_type": "stream",
          "name": "stdout",
          "text": [
            "\n",
            "\n",
            "----->>   PROCESS GOING ON   <<-----\n",
            "----->>   PROCESS GOING ON   <<-----\n",
            "----->>   PROCESS GOING ON   <<-----\n",
            "----->>   PROCESS GOING ON   <<-----\n",
            "----->>   PROCESS GOING ON   <<-----\n",
            "----->>   PROCESS GOING ON   <<-----\n",
            "\n",
            "\n",
            "CUSTOMER INVOICE\n",
            "***************************************\n",
            "|   VEHICLE    |        MODEL         |  PRICE/DAY   | TOTAL PRICE  |\n",
            "***************************************\n",
            "|     Bike     | Royal Enfield Bullet |     1000     |    583000    |\n",
            "|     Car      |         kia          |     4000     |   2332000    |\n",
            "***************************************\n",
            "\n"
          ]
        },
        {
          "output_type": "display_data",
          "data": {
            "text/plain": [
              "' Total Amount =  Rs. 2915000'"
            ],
            "application/vnd.google.colaboratory.intrinsic+json": {
              "type": "string"
            }
          },
          "metadata": {}
        },
        {
          "output_type": "display_data",
          "data": {
            "text/plain": [
              "'Returned vehicles successfully !'"
            ],
            "application/vnd.google.colaboratory.intrinsic+json": {
              "type": "string"
            }
          },
          "metadata": {}
        }
      ]
    },
    {
      "cell_type": "code",
      "source": [
        "# Customer pays the bill\n",
        "c.pay_bill()\n",
        ""
      ],
      "metadata": {
        "colab": {
          "base_uri": "https://localhost:8080/",
          "height": 264
        },
        "id": "KQwjmE7vjT1F",
        "outputId": "8b986409-d114-4796-b448-c413b93ae64c"
      },
      "execution_count": null,
      "outputs": [
        {
          "output_type": "display_data",
          "data": {
            "text/plain": [
              "'Payment of Amt Rs. 2915000 initiated'"
            ],
            "application/vnd.google.colaboratory.intrinsic+json": {
              "type": "string"
            }
          },
          "metadata": {}
        },
        {
          "output_type": "stream",
          "name": "stdout",
          "text": [
            "\n",
            "\n",
            "----->> Payment on process,wait for seconds <<-----\n",
            "----->> Payment on process,wait for seconds <<-----\n",
            "----->> Payment on process,wait for seconds <<-----\n",
            "----->> Payment on process,wait for seconds <<-----\n",
            "----->> Payment on process,wait for seconds <<-----\n",
            "----->> Payment on process,wait for seconds <<-----\n",
            "----->> Payment on process,wait for seconds <<-----\n",
            "\n",
            "\n"
          ]
        },
        {
          "output_type": "display_data",
          "data": {
            "text/plain": [
              "'Anu with total bill of Rs.2915000 has paid successfully'"
            ],
            "application/vnd.google.colaboratory.intrinsic+json": {
              "type": "string"
            }
          },
          "metadata": {}
        },
        {
          "output_type": "display_data",
          "data": {
            "text/plain": [
              "'Thank You Sir, for having service from us!'"
            ],
            "application/vnd.google.colaboratory.intrinsic+json": {
              "type": "string"
            }
          },
          "metadata": {}
        }
      ]
    }
  ]
}